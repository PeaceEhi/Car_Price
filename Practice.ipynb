{
 "cells": [
  {
   "cell_type": "code",
   "execution_count": 2,
   "id": "bfa17495",
   "metadata": {},
   "outputs": [
    {
     "name": "stdout",
     "output_type": "stream",
     "text": [
      "This is living\n"
     ]
    }
   ],
   "source": [
    "print('This is living')"
   ]
  },
  {
   "cell_type": "code",
   "execution_count": 4,
   "id": "604f26cb",
   "metadata": {},
   "outputs": [
    {
     "name": "stdout",
     "output_type": "stream",
     "text": [
      "32\n"
     ]
    }
   ],
   "source": [
    "age = 32\n",
    "print(age)"
   ]
  },
  {
   "cell_type": "code",
   "execution_count": 16,
   "id": "62c31206",
   "metadata": {},
   "outputs": [
    {
     "name": "stdout",
     "output_type": "stream",
     "text": [
      "1\n",
      "2\n",
      "3\n",
      "4\n",
      "6\n",
      "7\n",
      "8\n",
      "9\n",
      "11\n",
      "12\n",
      "13\n",
      "14\n",
      "16\n",
      "17\n",
      "18\n",
      "19\n"
     ]
    }
   ],
   "source": [
    "for i in range(0,20):\n",
    "    if(i%5 != 0):\n",
    "        print(i)"
   ]
  },
  {
   "cell_type": "code",
   "execution_count": 19,
   "id": "1cc34dd5",
   "metadata": {},
   "outputs": [
    {
     "name": "stdout",
     "output_type": "stream",
     "text": [
      "3\n",
      "6\n",
      "9\n",
      "12\n",
      "15\n",
      "18\n",
      "21\n",
      "24\n",
      "27\n",
      "30\n"
     ]
    }
   ],
   "source": [
    "for i in range(1,11):\n",
    "    print(i*3)"
   ]
  },
  {
   "cell_type": "code",
   "execution_count": 21,
   "id": "b2f5d484",
   "metadata": {},
   "outputs": [
    {
     "name": "stdout",
     "output_type": "stream",
     "text": [
      "what is your name? Peace Jerry\n",
      "you are welcome  Peace Jerry\n"
     ]
    }
   ],
   "source": [
    "name =input('what is your name? ')\n",
    "print('you are welcome ', name)"
   ]
  },
  {
   "cell_type": "code",
   "execution_count": 23,
   "id": "98117283",
   "metadata": {},
   "outputs": [
    {
     "name": "stdout",
     "output_type": "stream",
     "text": [
      "what is your name? Peace Jerry\n",
      "you are welcome  Peace Jerry\n",
      "How old are you? 25\n",
      "Did you say you are 27 years? \n",
      "once again, you are welcome Peace Jerry\n"
     ]
    }
   ],
   "source": [
    "name =input('what is your name? ')\n",
    "print('you are welcome ', name)\n",
    "age =input('How old are you? ')\n",
    "print('Did you say you are 27 years? ')\n",
    "print('once again, you are welcome', name)"
   ]
  },
  {
   "cell_type": "code",
   "execution_count": 3,
   "id": "28f4fec8",
   "metadata": {},
   "outputs": [
    {
     "name": "stdout",
     "output_type": "stream",
     "text": [
      "what is your name moses\n",
      "How old are you? 17\n",
      "you are welcome\n",
      "did you say your real age is 17 years?No\n",
      "Please can I know your real age? 17\n"
     ]
    }
   ],
   "source": [
    "name =input('what is your name ')\n",
    "age = input('How old are you? ')\n",
    "print('you are welcome')\n",
    "answer = input('did you say your real age is '+age+' years?')\n",
    "if answer =='No':\n",
    "    input('Please can I know your real age? ')\n",
    "else:\n",
    "    print('Once again you are welcome '+ name)"
   ]
  },
  {
   "cell_type": "code",
   "execution_count": 33,
   "id": "100d5ef2",
   "metadata": {},
   "outputs": [
    {
     "data": {
      "text/plain": [
       "'Hello Peace'"
      ]
     },
     "execution_count": 33,
     "metadata": {},
     "output_type": "execute_result"
    }
   ],
   "source": [
    "def name(name):\n",
    "    return \"Hello s+name\n",
    "name('Peace')"
   ]
  },
  {
   "cell_type": "code",
   "execution_count": 1,
   "id": "e0f12a38",
   "metadata": {},
   "outputs": [
    {
     "name": "stdout",
     "output_type": "stream",
     "text": [
      "Pleased to meet you, can we know your name? ominyi moses\n",
      "You have a nice name\n",
      "How old are you? 17\n",
      "You seem quite younger, are you sure you're 17years? no\n",
      "Thanks ominyi moses Once again, you are welcome.\n"
     ]
    }
   ],
   "source": [
    "name =input('Pleased to meet you, can we know your name? ')\n",
    "print('You have a nice name')\n",
    "age =input('How old are you? ')\n",
    "answer =input(\"You seem quite younger, are you sure you're \"+age+ \"years? \")\n",
    "if answer =='No':\n",
    "    input('Please can we know your real age? ')\n",
    "else:\n",
    "    print('Thanks '+name+ ' Once again, you are welcome.')"
   ]
  },
  {
   "cell_type": "code",
   "execution_count": 3,
   "id": "19d806db",
   "metadata": {},
   "outputs": [
    {
     "name": "stdout",
     "output_type": "stream",
     "text": [
      "Please input your name here: Jerry\n",
      "So sorry, you should probably be in another class\n"
     ]
    }
   ],
   "source": [
    "Name =input('Please input your name here: ')\n",
    "kindergarten = 3\n",
    "age = 7 #input('How old are you? ')\n",
    "if age < kindergarten or age > kindergarten:\n",
    "    print(\"So sorry, you should probably be in another class\")\n",
    "else:\n",
    "    print(\"Congratulations, you're now eligible to apply for KIDDIES COLLEGE\")"
   ]
  },
  {
   "cell_type": "code",
   "execution_count": null,
   "id": "33630897",
   "metadata": {},
   "outputs": [],
   "source": []
  }
 ],
 "metadata": {
  "kernelspec": {
   "display_name": "Python 3 (ipykernel)",
   "language": "python",
   "name": "python3"
  },
  "language_info": {
   "codemirror_mode": {
    "name": "ipython",
    "version": 3
   },
   "file_extension": ".py",
   "mimetype": "text/x-python",
   "name": "python",
   "nbconvert_exporter": "python",
   "pygments_lexer": "ipython3",
   "version": "3.11.3"
  }
 },
 "nbformat": 4,
 "nbformat_minor": 5
}
