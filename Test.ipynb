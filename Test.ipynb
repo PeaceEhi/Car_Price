{
 "cells": [
  {
   "cell_type": "code",
   "execution_count": 1,
   "id": "6ac07916",
   "metadata": {},
   "outputs": [
    {
     "name": "stdout",
     "output_type": "stream",
     "text": [
      "Pleased to meet you, can we know your name? jane\n",
      "You have a nice name\n",
      "How old are you? 15\n",
      "You seem quite younger, are you sure you're 15years? No\n",
      "Please can we know your real age? 19\n"
     ]
    }
   ],
   "source": [
    "name =input('Pleased to meet you, can we know your name? ')\n",
    "print('You have a nice name')\n",
    "age =input('How old are you? ')\n",
    "answer =input(\"You seem quite younger, are you sure you're \"+age+ \"years? \")\n",
    "if answer =='no':\n",
    "    input('Please can we know your real age? ')\n",
    "else:\n",
    "    print('Thanks '+name+ ' Once again, you are welcome.')\n",
    "    "
   ]
  },
  {
   "cell_type": "code",
   "execution_count": 1,
   "id": "3691cb88",
   "metadata": {},
   "outputs": [
    {
     "name": "stdout",
     "output_type": "stream",
     "text": [
      "Please input your name here: Jerry\n",
      "How old are you? 2\n",
      "So sorry, you should probably be in another class\n"
     ]
    }
   ],
   "source": [
    "Name =input('Please input your name here: ')\n",
    "kindergarten = 3\n",
    "age = int(input('How old are you? '))\n",
    "if age < kindergarten:\n",
    "    print(\"So sorry, you should probably be in another class\")\n",
    "else:\n",
    "    print(\"Congratulations, you're now eligible to apply for KIDDIES COLLEGE\")"
   ]
  },
  {
   "cell_type": "code",
   "execution_count": 5,
   "id": "d3830f8c",
   "metadata": {},
   "outputs": [],
   "source": [
    "import pandas as pd\n",
    "import matplotlib.pyplot as plt\n",
    "from sklearn.model_selection import train_test_split\n",
    "from sklearn.linear_model import LinearRegression"
   ]
  },
  {
   "cell_type": "code",
   "execution_count": 7,
   "id": "fc780b98",
   "metadata": {},
   "outputs": [
    {
     "data": {
      "text/html": [
       "<div>\n",
       "<style scoped>\n",
       "    .dataframe tbody tr th:only-of-type {\n",
       "        vertical-align: middle;\n",
       "    }\n",
       "\n",
       "    .dataframe tbody tr th {\n",
       "        vertical-align: top;\n",
       "    }\n",
       "\n",
       "    .dataframe thead th {\n",
       "        text-align: right;\n",
       "    }\n",
       "</style>\n",
       "<table border=\"1\" class=\"dataframe\">\n",
       "  <thead>\n",
       "    <tr style=\"text-align: right;\">\n",
       "      <th></th>\n",
       "      <th>COWORKING INVENTORY RECORD</th>\n",
       "      <th>Unnamed: 1</th>\n",
       "      <th>Unnamed: 2</th>\n",
       "    </tr>\n",
       "  </thead>\n",
       "  <tbody>\n",
       "    <tr>\n",
       "      <th>0</th>\n",
       "      <td>CUSTOMER NAME</td>\n",
       "      <td>PERIOD</td>\n",
       "      <td>DAYS IN</td>\n",
       "    </tr>\n",
       "    <tr>\n",
       "      <th>1</th>\n",
       "      <td>Ezenekwe Princewill</td>\n",
       "      <td>1 week</td>\n",
       "      <td>19th, 20th, 22nd, 30th (May), 3rd, 5th 12th Ju...</td>\n",
       "    </tr>\n",
       "  </tbody>\n",
       "</table>\n",
       "</div>"
      ],
      "text/plain": [
       "  COWORKING INVENTORY RECORD Unnamed: 1  \\\n",
       "0              CUSTOMER NAME     PERIOD   \n",
       "1        Ezenekwe Princewill     1 week   \n",
       "\n",
       "                                          Unnamed: 2  \n",
       "0                                            DAYS IN  \n",
       "1  19th, 20th, 22nd, 30th (May), 3rd, 5th 12th Ju...  "
      ]
     },
     "execution_count": 7,
     "metadata": {},
     "output_type": "execute_result"
    }
   ],
   "source": [
    "data = pd.read_excel('Workspace Inventory.xlsx')\n",
    "data"
   ]
  },
  {
   "cell_type": "code",
   "execution_count": null,
   "id": "1dffe14d",
   "metadata": {},
   "outputs": [],
   "source": []
  }
 ],
 "metadata": {
  "kernelspec": {
   "display_name": "Python 3 (ipykernel)",
   "language": "python",
   "name": "python3"
  },
  "language_info": {
   "codemirror_mode": {
    "name": "ipython",
    "version": 3
   },
   "file_extension": ".py",
   "mimetype": "text/x-python",
   "name": "python",
   "nbconvert_exporter": "python",
   "pygments_lexer": "ipython3",
   "version": "3.11.3"
  }
 },
 "nbformat": 4,
 "nbformat_minor": 5
}
